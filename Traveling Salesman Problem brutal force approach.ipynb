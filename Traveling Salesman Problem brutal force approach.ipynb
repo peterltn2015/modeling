{
 "cells": [
  {
   "cell_type": "markdown",
   "metadata": {},
   "source": [
    "# Traveling Salesman Problem\n",
    "Brutal force method to get results by Python\n"
   ]
  },
  {
   "cell_type": "code",
   "execution_count": 1,
   "metadata": {},
   "outputs": [
    {
     "name": "stdout",
     "output_type": "stream",
     "text": [
      "Shortest path:  [0, 1, 2, 4, 3, 0]\n",
      "Shortest distance: 7488.379793515935\n",
      "CPU times: user 1.34 ms, sys: 86 µs, total: 1.42 ms\n",
      "Wall time: 1.39 ms\n",
      "Shortest path:  [0, 3, 4, 2, 1, 5, 0]\n",
      "Shortest distance: 7558.769723968175\n",
      "CPU times: user 8.27 ms, sys: 217 µs, total: 8.49 ms\n",
      "Wall time: 8.41 ms\n",
      "Shortest path:  [0, 3, 6, 4, 2, 1, 5, 0]\n",
      "Shortest distance: 7581.160324180602\n",
      "CPU times: user 49.6 ms, sys: 962 µs, total: 50.5 ms\n",
      "Wall time: 50.1 ms\n",
      "Shortest path:  [0, 3, 6, 7, 4, 2, 1, 5, 0]\n",
      "Shortest distance: 7587.017783566822\n",
      "CPU times: user 410 ms, sys: 4.92 ms, total: 415 ms\n",
      "Wall time: 415 ms\n",
      "Shortest path:  [0, 8, 3, 6, 7, 4, 2, 1, 5, 0]\n",
      "Shortest distance: 7597.934057600878\n",
      "CPU times: user 3.79 s, sys: 36.8 ms, total: 3.82 s\n",
      "Wall time: 3.86 s\n",
      "Shortest path:  [0, 5, 1, 2, 4, 9, 6, 3, 7, 8, 0]\n",
      "Shortest distance: 7835.314968125804\n",
      "CPU times: user 38.4 s, sys: 311 ms, total: 38.7 s\n",
      "Wall time: 38.9 s\n",
      "Shortest path:  [4, 9, 7, 6, 3, 10, 8, 0, 5, 1, 2, 4]\n",
      "Shortest distance: 8069.700119480705\n",
      "CPU times: user 7min 24s, sys: 13.2 s, total: 7min 37s\n",
      "Wall time: 7min 42s\n"
     ]
    }
   ],
   "source": [
    "from itertools import permutations\n",
    "import math\n",
    "\n",
    "# compute distance for two points using x,y-coordinate system.\n",
    "def computeDistance(p1,p2):\n",
    "    return math.sqrt(math.pow((p1[0]-p2[0]),2)+math.pow((p1[1]-p2[1]),2))\n",
    "\n",
    "# find the shortest path and its distance\n",
    "def TSP(M):\n",
    "    n=len(M)\n",
    "    initialTour = [x for x in range(n)]\n",
    "    perm = permutations(initialTour)\n",
    "    index =1;\n",
    "    shortestDistance = float(\"inf\")\n",
    "    shortestPath=list(numpy.zeros(n+1))\n",
    "    for i in list(perm): \n",
    "        tour=list(i)\n",
    "        tour.append(i[0])\n",
    "        totalDistance=0\n",
    "        for j in range(n):\n",
    "            totalDistance += computeDistance(M[tour[j]],M[tour[j+1]])\n",
    "            if totalDistance > shortestDistance :\n",
    "                break\n",
    "        if totalDistance < shortestDistance:\n",
    "            shortestDistance = totalDistance\n",
    "            shortestPath = tour\n",
    "    print(\"Shortest path: \",shortestPath)\n",
    "    print(\"Shortest distance: \"+str(shortestDistance))\n",
    "\n",
    "#example: \n",
    "import numpy\n",
    "A = numpy.loadtxt('band.txt')\n",
    "sq=[x+5 for x in range(7)]\n",
    "for i in sq:\n",
    "    %time TSP(A[0:i])"
   ]
  }
 ],
 "metadata": {
  "kernelspec": {
   "display_name": "Python 3",
   "language": "python",
   "name": "python3"
  },
  "language_info": {
   "codemirror_mode": {
    "name": "ipython",
    "version": 3
   },
   "file_extension": ".py",
   "mimetype": "text/x-python",
   "name": "python",
   "nbconvert_exporter": "python",
   "pygments_lexer": "ipython3",
   "version": "3.7.0"
  }
 },
 "nbformat": 4,
 "nbformat_minor": 2
}
